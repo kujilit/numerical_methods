{
 "cells": [
  {
   "cell_type": "code",
   "execution_count": 1,
   "metadata": {
    "collapsed": true
   },
   "outputs": [
    {
     "name": "stdout",
     "output_type": "stream",
     "text": [
      "iteration: 1, x_cur: [10  8  9], x_next: [1.1 0.9 0.3]\n",
      "iteration: 2, x_cur: [1.1 0.9 0.3], x_next: [0.94 0.88 0.83]\n",
      "iteration: 3, x_cur: [0.94 0.88 0.83], x_next: [0.995 0.811 0.818]\n",
      "iteration: 4, x_cur: [0.995 0.811 0.818], x_next: [1.0007 0.8177 0.8373]\n",
      "iteration: 5, x_cur: [1.0007 0.8177 0.8373], x_next: [1.00196 0.81634 0.83653]\n",
      "[1.002019 0.816543 0.836928]\n",
      "[1.   0.9  0.92]\n"
     ]
    }
   ],
   "source": [
    "import numpy as np\n",
    "from methods import Jacobi, Seidal"
   ]
  },
  {
   "cell_type": "code",
   "execution_count": 3,
   "outputs": [
    {
     "name": "stdout",
     "output_type": "stream",
     "text": [
      "iteration: 1, x_cur: [10  8  9], x_next: [1.1 0.9 0.3]\n",
      "iteration: 2, x_cur: [1.1 0.9 0.3], x_next: [0.94 0.88 0.83]\n",
      "iteration: 3, x_cur: [0.94 0.88 0.83], x_next: [0.995 0.811 0.818]\n",
      "iteration: 4, x_cur: [0.995 0.811 0.818], x_next: [1.0007 0.8177 0.8373]\n",
      "iteration: 5, x_cur: [1.0007 0.8177 0.8373], x_next: [1.00196 0.81634 0.83653]\n",
      "iteration: 6, x_cur: [1.00196 0.81634 0.83653], x_next: [1.002019 0.816543 0.836928]\n",
      "iteration: 7, x_cur: [1.002019 0.816543 0.836928], x_next: [1.0020385 0.8165091 0.8368933]\n",
      "iteration: 8, x_cur: [1.0020385 0.8165091 0.8368933], x_next: [1.00203842 0.81651452 0.83690203]\n",
      "iteration: 9, x_cur: [1.00203842 0.81651452 0.83690203], x_next: [1.00203875 0.81651364 0.83690094]\n",
      "iteration: 10, x_cur: [1.00203875 0.81651364 0.83690094], x_next: [1.00203873 0.81651378 0.83690115]\n",
      "iteration: 11, x_cur: [1.00203873 0.81651378 0.83690115], x_next: [1.00203874 0.81651376 0.83690112]\n",
      "iteration: 12, x_cur: [1.00203874 0.81651376 0.83690112], x_next: [1.00203874 0.81651376 0.83690112]\n",
      "iteration: 13, x_cur: [1.00203874 0.81651376 0.83690112], x_next: [1.00203874 0.81651376 0.83690112]\n",
      "iteration: 14, x_cur: [1.00203874 0.81651376 0.83690112], x_next: [1.00203874 0.81651376 0.83690112]\n"
     ]
    },
    {
     "data": {
      "text/plain": "array([1.00203874, 0.81651376, 0.83690112])"
     },
     "metadata": {},
     "output_type": "display_data"
    },
    {
     "data": {
      "text/plain": "array([1.  , 0.9 , 0.92])"
     },
     "metadata": {},
     "output_type": "display_data"
    },
    {
     "data": {
      "text/plain": "array([0.98365679, 0.79775281, 0.96118488])"
     },
     "metadata": {},
     "output_type": "display_data"
    }
   ],
   "source": [
    "A = np.array([\n",
    "    [10, -1, 1],\n",
    "    [1, 10, -1],\n",
    "    [1, -2, 10]\n",
    "])\n",
    "b = np.array([10, 8, 9])\n",
    "\n",
    "display(Jacobi(A, b, 1e-10).get_solution()[0])\n",
    "display(Seidal(A, b, 1e-10).get_solution()[0])\n",
    "display(np.linalg.tensorsolve(A, b))"
   ],
   "metadata": {
    "collapsed": false
   }
  },
  {
   "cell_type": "code",
   "execution_count": null,
   "outputs": [],
   "source": [],
   "metadata": {
    "collapsed": false
   }
  }
 ],
 "metadata": {
  "kernelspec": {
   "display_name": "Python 3",
   "language": "python",
   "name": "python3"
  },
  "language_info": {
   "codemirror_mode": {
    "name": "ipython",
    "version": 2
   },
   "file_extension": ".py",
   "mimetype": "text/x-python",
   "name": "python",
   "nbconvert_exporter": "python",
   "pygments_lexer": "ipython2",
   "version": "2.7.6"
  }
 },
 "nbformat": 4,
 "nbformat_minor": 0
}
