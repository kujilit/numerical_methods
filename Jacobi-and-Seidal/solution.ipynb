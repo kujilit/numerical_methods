{
 "cells": [
  {
   "cell_type": "code",
   "execution_count": 1,
   "metadata": {
    "collapsed": true
   },
   "outputs": [
    {
     "name": "stdout",
     "output_type": "stream",
     "text": [
      "[0.98365679 0.79775281 0.96118488]\n",
      "iteration: 1, x_cur: [10  8  9], x_next: [0.9 0.7 1.5]\n",
      "iteration: 2, x_cur: [0.9 0.7 1.5], x_next: [0.92 0.86 0.95]\n",
      "iteration: 3, x_cur: [0.92 0.86 0.95], x_next: [0.991 0.803 0.98 ]\n",
      "iteration: 4, x_cur: [0.991 0.803 0.98 ], x_next: [0.9823 0.7989 0.9615]\n",
      "iteration: 5, x_cur: [0.9823 0.7989 0.9615], x_next: [0.98374 0.79792 0.96155]\n",
      "[0.983637 0.797781 0.96121 ]\n",
      "[1.   0.7  0.94]\n"
     ]
    }
   ],
   "source": [
    "import numpy as np\n",
    "from methods import Jacobi, Seidal"
   ]
  },
  {
   "cell_type": "code",
   "execution_count": 2,
   "outputs": [
    {
     "name": "stdout",
     "output_type": "stream",
     "text": [
      "iteration: 1, x_cur: [10  8  9], x_next: [0.9 0.7 1.5]\n",
      "iteration: 2, x_cur: [0.9 0.7 1.5], x_next: [0.92 0.86 0.95]\n",
      "iteration: 3, x_cur: [0.92 0.86 0.95], x_next: [0.991 0.803 0.98 ]\n",
      "iteration: 4, x_cur: [0.991 0.803 0.98 ], x_next: [0.9823 0.7989 0.9615]\n",
      "iteration: 5, x_cur: [0.9823 0.7989 0.9615], x_next: [0.98374 0.79792 0.96155]\n"
     ]
    },
    {
     "data": {
      "text/plain": "array([0.983637, 0.797781, 0.96121 ])"
     },
     "metadata": {},
     "output_type": "display_data"
    },
    {
     "data": {
      "text/plain": "array([1.  , 0.7 , 0.94])"
     },
     "metadata": {},
     "output_type": "display_data"
    },
    {
     "data": {
      "text/plain": "array([0.98365679, 0.79775281, 0.96118488])"
     },
     "metadata": {},
     "output_type": "display_data"
    }
   ],
   "source": [
    "A = np.array([\n",
    "    [10, -1, 1],\n",
    "    [1, 10, -1],\n",
    "    [1, -2, 10]\n",
    "])\n",
    "b = np.array([10, 8, 9])\n",
    "\n",
    "display(Jacobi(A, b, 1e-3).get_solution()[0])\n",
    "display(Seidal(A, b, 1e-3).get_solution()[0])\n",
    "display(np.linalg.tensorsolve(A, b))"
   ],
   "metadata": {
    "collapsed": false
   }
  },
  {
   "cell_type": "code",
   "execution_count": null,
   "outputs": [],
   "source": [],
   "metadata": {
    "collapsed": false
   }
  }
 ],
 "metadata": {
  "kernelspec": {
   "display_name": "Python 3",
   "language": "python",
   "name": "python3"
  },
  "language_info": {
   "codemirror_mode": {
    "name": "ipython",
    "version": 2
   },
   "file_extension": ".py",
   "mimetype": "text/x-python",
   "name": "python",
   "nbconvert_exporter": "python",
   "pygments_lexer": "ipython2",
   "version": "2.7.6"
  }
 },
 "nbformat": 4,
 "nbformat_minor": 0
}
