{
 "cells": [
  {
   "cell_type": "code",
   "execution_count": 1,
   "metadata": {
    "collapsed": true
   },
   "outputs": [],
   "source": [
    "import numpy as np"
   ]
  },
  {
   "cell_type": "code",
   "execution_count": 18,
   "outputs": [],
   "source": [
    "A = np.array([\n",
    "    [2, 0, 1],\n",
    "    [0, 1, -1],\n",
    "    [1, 1, 1]\n",
    "])\n",
    "b = np.array([3, 0, 3])"
   ],
   "metadata": {
    "collapsed": false
   }
  },
  {
   "cell_type": "code",
   "execution_count": 31,
   "outputs": [],
   "source": [
    "def proj(x, y):\n",
    "    return y * (x.dot(y) / y.dot(y))"
   ],
   "metadata": {
    "collapsed": false
   }
  },
  {
   "cell_type": "code",
   "execution_count": 66,
   "outputs": [
    {
     "data": {
      "text/plain": "array([[ 2. ,  0.4,  1. ],\n       [ 0. ,  1. , -1. ],\n       [ 1. ,  1.2,  1. ]])"
     },
     "metadata": {},
     "output_type": "display_data"
    }
   ],
   "source": [
    "def qr_factorization(A: np.array):\n",
    "    dim = A.shape\n",
    "    R = np.zeros((dim[1], dim[1]))\n",
    "    U = np.zeros(dim)\n",
    "    C = np.zeros(dim)\n",
    "\n",
    "    for k in range(dim[0]):\n",
    "        sum = 0\n",
    "\n",
    "        if k > 0:\n",
    "            for j in range(k-1):\n",
    "                sum += proj(A.transpose()[k], U[j])\n",
    "\n",
    "        U[k] = A.transpose()[k] - sum\n",
    "        C[k] = U[k] / np.linalg.norm(U[k])\n",
    "\n",
    "    for i in range(dim[1]):\n",
    "        for j in range(dim[1]):\n",
    "            if i <= j:\n",
    "                R[i][j] = C[i].dot(A.transpose()[j])\n",
    "\n",
    "    Q = C.T\n",
    "\n",
    "    return Q, R, U\n",
    "\n",
    "Q, R, U = qr_factorization(A)\n",
    "\n",
    "display(Q.dot(R))"
   ],
   "metadata": {
    "collapsed": false
   }
  },
  {
   "cell_type": "code",
   "execution_count": 67,
   "outputs": [
    {
     "data": {
      "text/plain": "array([ 0.83304453, -0.49740614,  1.9116197 ])"
     },
     "metadata": {},
     "output_type": "display_data"
    }
   ],
   "source": [
    "# Qy = b\n",
    "# Ux = y\n",
    "\n",
    "def get_solution(A, b):\n",
    "    y = np.array(b.shape)\n",
    "    Q, R, U = qr_factorization(A)\n",
    "    y = np.linalg.tensorsolve(Q, b)\n",
    "\n",
    "    return np.linalg.tensorsolve(U, y)\n",
    "\n",
    "display(get_solution(A, b))"
   ],
   "metadata": {
    "collapsed": false
   }
  },
  {
   "cell_type": "code",
   "execution_count": null,
   "outputs": [],
   "source": [],
   "metadata": {
    "collapsed": false
   }
  }
 ],
 "metadata": {
  "kernelspec": {
   "display_name": "Python 3",
   "language": "python",
   "name": "python3"
  },
  "language_info": {
   "codemirror_mode": {
    "name": "ipython",
    "version": 2
   },
   "file_extension": ".py",
   "mimetype": "text/x-python",
   "name": "python",
   "nbconvert_exporter": "python",
   "pygments_lexer": "ipython2",
   "version": "2.7.6"
  }
 },
 "nbformat": 4,
 "nbformat_minor": 0
}
